{
 "cells": [
  {
   "cell_type": "markdown",
   "metadata": {
    "colab_type": "text",
    "id": "41TS0Sa0rDNx"
   },
   "source": [
    "Lambda School Data Science\n",
    "\n",
    "*Unit 4, Sprint 2, Module 4*\n",
    "\n",
    "---"
   ]
  },
  {
   "cell_type": "markdown",
   "metadata": {
    "colab_type": "text",
    "id": "41TS0Sa0rDNx"
   },
   "source": [
    "# Neural Networks & GPUs (Prepare)\n",
    "*aka Hyperparameter Tuning*\n",
    "\n",
    "*aka Big Servers for Big Problems*"
   ]
  },
  {
   "cell_type": "markdown",
   "metadata": {
    "colab_type": "text",
    "id": "41TS0Sa0rDNx"
   },
   "source": [
    "## Learning Objectives\n",
    "* <a href=\"#p1\">Part 1</a>: Describe the major hyperparemeters to tune\n",
    "* <a href=\"#p2\">Part 2</a>: Implement an experiment tracking framework\n",
    "* <a href=\"#p3\">Part 3</a>: Search the hyperparameter space using RandomSearch (Optional)"
   ]
  },
  {
   "cell_type": "markdown",
   "metadata": {},
   "source": [
    "# Hyperparameter Options (Learn)\n",
    "<a id=\"p1\"></a>"
   ]
  },
  {
   "cell_type": "markdown",
   "metadata": {},
   "source": [
    "## Overview\n",
    "\n",
    "Hyperparameter tuning is much more important with neural networks than it has been with any other models that we have considered up to this point. Other supervised learning models might have a couple of parameters, but neural networks can have dozens. These can substantially affect the accuracy of our models and although it can be a time consuming process is a necessary step when working with neural networks.\n",
    "​\n",
    "Hyperparameter tuning comes with a challenge. How can we compare models specified with different hyperparameters if our model's final error metric can vary somewhat erratically? How do we avoid just getting unlucky and selecting the wrong hyperparameter? This is a problem that to a certain degree we just have to live with as we test and test again. However, we can minimize it somewhat by pairing our experiments with Cross Validation to reduce the variance of our final accuracy values."
   ]
  },
  {
   "cell_type": "markdown",
   "metadata": {
    "colab_type": "text",
    "id": "0s0o2pqBs88q"
   },
   "source": [
    "### Load Boston Housing Data"
   ]
  },
  {
   "cell_type": "code",
   "execution_count": 1,
   "metadata": {},
   "outputs": [],
   "source": [
    "from tensorflow.keras.datasets import boston_housing\n",
    "\n",
    "(x_train, y_train), (x_test, y_test) = boston_housing.load_data()"
   ]
  },
  {
   "cell_type": "markdown",
   "metadata": {
    "colab_type": "text",
    "id": "Pm7zow5IvaTt"
   },
   "source": [
    "### Normalizing Input Data\n",
    "\n",
    "It's not 100% necessary to normalize/scale your input data before feeding it to a neural network, the network can learn the appropriate weights to deal with data of as long as it is numerically represented,  but it is recommended as it can help **make training faster** and **reduces the chances that gradient descent might get stuck in a local optimum**.\n",
    "\n",
    "<https://stackoverflow.com/questions/4674623/why-do-we-have-to-normalize-the-input-for-an-artificial-neural-network>"
   ]
  },
  {
   "cell_type": "code",
   "execution_count": 2,
   "metadata": {
    "colab": {
     "base_uri": "https://localhost:8080/",
     "height": 235
    },
    "colab_type": "code",
    "id": "q5qDpUj9vZVw",
    "outputId": "ce27017a-b173-455d-954e-d462e17e66f4"
   },
   "outputs": [
    {
     "name": "stdout",
     "output_type": "stream",
     "text": [
      "[[-0.27224633 -0.48361547 -0.43576161 ...  1.14850044  0.44807713\n",
      "   0.8252202 ]\n",
      " [-0.40342651  2.99178419 -1.33391162 ... -1.71818909  0.43190599\n",
      "  -1.32920239]\n",
      " [ 0.1249402  -0.48361547  1.0283258  ...  0.78447637  0.22061726\n",
      "  -1.30850006]\n",
      " ...\n",
      " [-0.40202987  0.99079651 -0.7415148  ... -0.71712291  0.07943894\n",
      "  -0.67776904]\n",
      " [-0.17292018 -0.48361547  1.24588095 ... -1.71818909 -0.98764362\n",
      "   0.42083466]\n",
      " [-0.40422614  2.04394792 -1.20161456 ... -1.30866202  0.23317118\n",
      "  -1.15392266]]\n"
     ]
    }
   ],
   "source": [
    "from sklearn.preprocessing import StandardScaler\n",
    "\n",
    "# Split into X and y and turn into numpy arays\n",
    "#y = df.MEDV.values\n",
    "#X = df.drop(\"MEDV\", axis='columns').values\n",
    "\n",
    "# Scale input data\n",
    "scaler = StandardScaler()\n",
    "X = scaler.fit_transform(x_train)\n",
    "print(X)"
   ]
  },
  {
   "cell_type": "markdown",
   "metadata": {
    "colab_type": "text",
    "id": "l6hgCWbir90R"
   },
   "source": [
    "### Model Validation using an automatic verification Dataset\n",
    "\n",
    "Instead of doing seperate train test split class, Keras has a really nice feature that you can set the validation.data argument when fitting your model and Keras will take that portion of your test data and use it as a validation dataset. "
   ]
  },
  {
   "cell_type": "code",
   "execution_count": 1,
   "metadata": {
    "colab": {
     "base_uri": "https://localhost:8080/",
     "height": 1750
    },
    "colab_type": "code",
    "id": "GMXVfmzXp1Oo",
    "outputId": "b05e251e-508f-46e6-865b-f869ae2a5dc4"
   },
   "outputs": [
    {
     "ename": "ModuleNotFoundError",
     "evalue": "No module named 'tensorflow'",
     "output_type": "error",
     "traceback": [
      "\u001b[0;31m---------------------------------------------------------------------------\u001b[0m",
      "\u001b[0;31mModuleNotFoundError\u001b[0m                       Traceback (most recent call last)",
      "\u001b[0;32m<ipython-input-1-b170ebde1f01>\u001b[0m in \u001b[0;36m<module>\u001b[0;34m\u001b[0m\n\u001b[0;32m----> 1\u001b[0;31m \u001b[0;32mfrom\u001b[0m \u001b[0mtensorflow\u001b[0m \u001b[0;32mimport\u001b[0m \u001b[0mkeras\u001b[0m\u001b[0;34m\u001b[0m\u001b[0;34m\u001b[0m\u001b[0m\n\u001b[0m\u001b[1;32m      2\u001b[0m \u001b[0;32mfrom\u001b[0m \u001b[0mtensorflow\u001b[0m\u001b[0;34m.\u001b[0m\u001b[0mkeras\u001b[0m\u001b[0;34m.\u001b[0m\u001b[0mmodels\u001b[0m \u001b[0;32mimport\u001b[0m \u001b[0mSequential\u001b[0m\u001b[0;34m\u001b[0m\u001b[0;34m\u001b[0m\u001b[0m\n\u001b[1;32m      3\u001b[0m \u001b[0;32mfrom\u001b[0m \u001b[0mtensorflow\u001b[0m\u001b[0;34m.\u001b[0m\u001b[0mkeras\u001b[0m\u001b[0;34m.\u001b[0m\u001b[0mlayers\u001b[0m \u001b[0;32mimport\u001b[0m \u001b[0mDense\u001b[0m\u001b[0;34m\u001b[0m\u001b[0;34m\u001b[0m\u001b[0m\n\u001b[1;32m      4\u001b[0m \u001b[0;34m\u001b[0m\u001b[0m\n\u001b[1;32m      5\u001b[0m \u001b[0;31m# Important Hyperparameters\u001b[0m\u001b[0;34m\u001b[0m\u001b[0;34m\u001b[0m\u001b[0;34m\u001b[0m\u001b[0m\n",
      "\u001b[0;31mModuleNotFoundError\u001b[0m: No module named 'tensorflow'"
     ]
    }
   ],
   "source": [
    "from tensorflow import keras\n",
    "from tensorflow.keras.models import Sequential\n",
    "from tensorflow.keras.layers import Dense\n",
    "\n",
    "# Important Hyperparameters\n",
    "inputs = x_train.shape[1]\n",
    "epochs = 50\n",
    "batch_size = 10\n",
    "\n",
    "\n",
    "# Create Model\n",
    "model = Sequential()\n",
    "model.add(Dense(64, activation='relu', input_shape=(inputs,)))\n",
    "model.add(Dense(64, activation='relu'))\n",
    "model.add(Dense(1))\n",
    "# Compile Model\n",
    "model.compile(optimizer='adam', loss='mse', metrics=['mse', 'mae'])\n",
    "\n",
    "# Fit Model\n",
    "\n",
    "model.fit(x_train, y_train, \n",
    "          validation_data=(x_test,y_test), \n",
    "          epochs=epochs, \n",
    "          batch_size=epochs,\n",
    "          verbose=True\n",
    "         )"
   ]
  },
  {
   "cell_type": "markdown",
   "metadata": {
    "colab_type": "text",
    "id": "sYJ8t_ezHP4W"
   },
   "source": [
    "### Hyperparameter Tuning Approaches:\n",
    "\n",
    "#### 1) Babysitting AKA \"Grad Student Descent\".\n",
    "\n",
    "If you fiddled with any hyperparameters yesterday, this is basically what you did. This approach is 100% manual and is pretty common among researchers where finding that 1 exact specification that jumps your model to a level of accuracy never seen before is the difference between publishing and not publishing a paper. Of course the professors don't do this themselves, that's grunt work. This is also known as the fiddle with hyperparameters until you run out of time method.\n",
    "\n",
    "#### 2) Grid Search\n",
    "\n",
    "Grid Search is the Grad Student galaxy brain realization of: why don't I just specify all the experiments I want to run and let the computer try every possible combination of them while I go and grab lunch. This has a specific downside in that if I specify 5 hyperparameters with 5 options each then I've just created 5^5 combinations of hyperparameters to check. Which means that I have to train 3125 different versions of my model Then if I use 5-fold Cross Validation on that then my model has to run 15,525 times. This is the brute-force method of hyperparameter tuning, but it can be very profitable if done wisely. \n",
    "\n",
    "When using Grid Search here's what I suggest: don't use it to test combinations of different hyperparameters, only use it to test different specifications of **a single** hyperparameter. It's rare that combinations between different hyperparameters lead to big performance gains. You'll get 90-95% of the way there if you just Grid Search one parameter and take the best result, then retain that best result while you test another, and then retain the best specification from that while you train another. This at least makes the situation much more manageable and leads to pretty good results. \n",
    "\n",
    "#### 3) Random Search\n",
    "\n",
    "Do Grid Search for a couple of hours and you'll say to yourself - \"There's got to be a better way.\" Enter Random Search. For Random search you specify a hyperparameter space and it picks specifications from that randomly, tries them out, gives you the best results and says - That's going to have to be good enough, go home and spend time with your family. \n",
    "\n",
    "Grid Search treats every parameter as if it was equally important, but this just isn't the case, some are known to move the needle a lot more than others (we'll talk about that in a minute). Random Search allows searching to be specified along the most important parameter and experiments less along the dimensions of less important hyperparameters. The downside of Random search is that it won't find the absolute best hyperparameters, but it is much less costly to perform than Grid Search. \n",
    "\n",
    "#### 4) Bayesian Methods\n",
    "\n",
    "One thing that can make more manual methods like babysitting and gridsearch effective is that as the experimenter sees results he can then make updates to his future searches taking into account the results of past specifications. If only we could hyperparameter tune our hyperparameter tuning. Well, we kind of can. Enter Bayesian Optimization. Neural Networks are like an optimization problem within an optimization problem, and Bayesian Optimization is a search strategy that tries to take into account the results of past searches in order to improve future ones. This is the most advanced method but can be a little bit tricky to implement, but there are some early steps with `hyperas` which is Bayesian optimization wrapper for `keras`. "
   ]
  },
  {
   "cell_type": "markdown",
   "metadata": {
    "colab_type": "text",
    "id": "HfQ7D043OMMn"
   },
   "source": [
    "## What Hyperparameters are there to test?\n",
    "\n",
    "- batch_size\n",
    "- training epochs\n",
    "- optimization algorithms\n",
    "- learning rate\n",
    "- momentum\n",
    "- activation functions\n",
    "- dropout regularization\n",
    "- number of neurons in the hidden layer\n",
    "\n",
    "There are more, but these are the most important."
   ]
  },
  {
   "cell_type": "markdown",
   "metadata": {},
   "source": [
    "## Follow Along"
   ]
  },
  {
   "cell_type": "markdown",
   "metadata": {
    "colab_type": "text",
    "id": "Mri5-kXzVKAa"
   },
   "source": [
    "## Batch Size\n",
    "\n",
    "Batch size determines how many observations the model is shown before it calculates loss/error and updates the model weights via gradient descent. You're looking for a sweet spot here where you're showing it enough observations that you have enough information to updates the weights, but not such a large batch size that you don't get a lot of weight update iterations performed in a given epoch. Feed-forward Neural Networks aren't as sensitive to bach_size as other networks, but it is still an important hyperparameter to tune. Smaller batch sizes will also take longer to train. "
   ]
  },
  {
   "cell_type": "code",
   "execution_count": 5,
   "metadata": {
    "colab": {
     "base_uri": "https://localhost:8080/",
     "height": 13561
    },
    "colab_type": "code",
    "id": "2smXfriNAGn7",
    "outputId": "ae996575-78e2-43fb-9dbe-5d44aaf0b430"
   },
   "outputs": [
    {
     "name": "stderr",
     "output_type": "stream",
     "text": [
      "/Users/jonathansokoll/anaconda3/lib/python3.7/site-packages/sklearn/model_selection/_split.py:2053: FutureWarning: You should specify a value for 'cv' instead of relying on the default value. The default value will change from 3 to 5 in version 0.22.\n",
      "  warnings.warn(CV_WARNING, FutureWarning)\n"
     ]
    },
    {
     "name": "stdout",
     "output_type": "stream",
     "text": [
      "Best: 0.6692708333333334 using {'batch_size': 20, 'epochs': 20}\n",
      "Means: 0.65625, Stdev: 0.030425316264447715 with: {'batch_size': 10, 'epochs': 20}\n",
      "Means: 0.6692708333333334, Stdev: 0.0403855792168511 with: {'batch_size': 20, 'epochs': 20}\n",
      "Means: 0.5794270833333334, Stdev: 0.026748227323143407 with: {'batch_size': 40, 'epochs': 20}\n",
      "Means: 0.546875, Stdev: 0.03880120944206078 with: {'batch_size': 60, 'epochs': 20}\n",
      "Means: 0.5872395833333334, Stdev: 0.027865800207073823 with: {'batch_size': 80, 'epochs': 20}\n",
      "Means: 0.5859375, Stdev: 0.024079742199097563 with: {'batch_size': 100, 'epochs': 20}\n"
     ]
    }
   ],
   "source": [
    "import numpy\n",
    "import pandas as pd\n",
    "from sklearn.model_selection import GridSearchCV\n",
    "from tensorflow.keras.models import Sequential\n",
    "from tensorflow.keras.layers import Dense\n",
    "from tensorflow.keras.wrappers.scikit_learn import KerasClassifier\n",
    "\n",
    "# fix random seed for reproducibility\n",
    "seed = 7\n",
    "numpy.random.seed(seed)\n",
    "\n",
    "# load dataset\n",
    "url =\"https://raw.githubusercontent.com/jbrownlee/Datasets/master/pima-indians-diabetes.data.csv\"\n",
    "\n",
    "dataset = pd.read_csv(url, header=None).values\n",
    "\n",
    "# split into input (X) and output (Y) variables\n",
    "X = dataset[:,0:8]\n",
    "Y = dataset[:,8]\n",
    "\n",
    "# Function to create model, required for KerasClassifier\n",
    "def create_model():\n",
    "    # create model\n",
    "    model = Sequential()\n",
    "    model.add(Dense(12, input_dim=8, activation='relu'))\n",
    "    model.add(Dense(1, activation='sigmoid'))\n",
    "    # Compile model\n",
    "    model.compile(loss='binary_crossentropy', optimizer='adam', metrics=['accuracy'])\n",
    "    return model\n",
    "\n",
    "# create model\n",
    "model = KerasClassifier(build_fn=create_model, verbose=0)\n",
    "\n",
    "# define the grid search parameters\n",
    "# batch_size = [10, 20, 40, 60, 80, 100]\n",
    "# param_grid = dict(batch_size=batch_size, epochs=epochs)\n",
    "\n",
    "# define the grid search parameters\n",
    "param_grid = {'batch_size': [10, 20, 40, 60, 80, 100],\n",
    "              'epochs': [20]}\n",
    "\n",
    "# Create Grid Search\n",
    "grid = GridSearchCV(estimator=model, param_grid=param_grid, n_jobs=1)\n",
    "grid_result = grid.fit(X, Y)\n",
    "\n",
    "# Report Results\n",
    "print(f\"Best: {grid_result.best_score_} using {grid_result.best_params_}\")\n",
    "means = grid_result.cv_results_['mean_test_score']\n",
    "stds = grid_result.cv_results_['std_test_score']\n",
    "params = grid_result.cv_results_['params']\n",
    "for mean, stdev, param in zip(means, stds, params):\n",
    "    print(f\"Means: {mean}, Stdev: {stdev} with: {param}\") "
   ]
  },
  {
   "cell_type": "markdown",
   "metadata": {
    "colab_type": "text",
    "id": "pmABfjlvXbqi"
   },
   "source": [
    "## Epochs\n",
    "\n",
    "The number of training epochs has a large and direct affect on the accuracy, However, more epochs is almost always goign to better than less epochs. This means that if you tune this parameter at the beginning and try and maintain the same value all throughout your training, you're going to be waiting a long time for each iteration of GridSearch. I suggest picking a fixed moderat # of epochs all throughout your training and then Grid Searching this parameter at the very end. "
   ]
  },
  {
   "cell_type": "code",
   "execution_count": 6,
   "metadata": {
    "colab": {
     "base_uri": "https://localhost:8080/",
     "height": 26329
    },
    "colab_type": "code",
    "id": "bAmxP3N7TmFh",
    "outputId": "3ddb08c4-51ac-4eaa-ff39-143397024544"
   },
   "outputs": [
    {
     "name": "stdout",
     "output_type": "stream",
     "text": [
      "Best: 0.6901041666666666 using {'batch_size': 20, 'epochs': 200}\n",
      "Means: 0.6393229166666666, Stdev: 0.0416259566748588 with: {'batch_size': 20, 'epochs': 20}\n",
      "Means: 0.6744791666666666, Stdev: 0.008026580733032522 with: {'batch_size': 20, 'epochs': 40}\n",
      "Means: 0.6432291666666666, Stdev: 0.07176830093500348 with: {'batch_size': 20, 'epochs': 60}\n",
      "Means: 0.6901041666666666, Stdev: 0.02307297545139238 with: {'batch_size': 20, 'epochs': 200}\n"
     ]
    }
   ],
   "source": [
    "# define the grid search parameters\n",
    "param_grid = {'batch_size': [20],\n",
    "              'epochs': [20, 40, 60,200]}\n",
    "\n",
    "# Create Grid Search\n",
    "grid = GridSearchCV(estimator=model, param_grid=param_grid, n_jobs=1)\n",
    "grid_result = grid.fit(X, Y)\n",
    "\n",
    "# Report Results\n",
    "print(f\"Best: {grid_result.best_score_} using {grid_result.best_params_}\")\n",
    "means = grid_result.cv_results_['mean_test_score']\n",
    "stds = grid_result.cv_results_['std_test_score']\n",
    "params = grid_result.cv_results_['params']\n",
    "for mean, stdev, param in zip(means, stds, params):\n",
    "    print(f\"Means: {mean}, Stdev: {stdev} with: {param}\")"
   ]
  },
  {
   "cell_type": "markdown",
   "metadata": {
    "colab_type": "text",
    "id": "EKcuY6OiaLfz"
   },
   "source": [
    "## Optimizer\n",
    "\n",
    "Remember that there's a different optimizers [optimizers](https://keras.io/optimizers/). At some point, take some time to read up on them a little bit. \"adam\" usually gives the best results. The thing to know about choosing an optimizer is that different optimizers have different hyperparameters like learning rate, momentum, etc. So based on the optimizer you choose you might also have to tune the learning rate and momentum of those optimizers after that. "
   ]
  },
  {
   "cell_type": "markdown",
   "metadata": {
    "colab_type": "text",
    "id": "DG3wq5iOaLig"
   },
   "source": [
    "## Learning Rate\n",
    "\n",
    "Remember that the Learning Rate is a hyperparameter that is specific to your gradient-descent based optimizer selection. A learning rate that is too high will cause divergent behavior, but a Learning Rate that is too low will fail to converge, again, you're looking for the sweet spot. I would start out tuning learning rates by orders of magnitude: [.001, .01, .1, .2, .3, .5] etc. I wouldn't go above .5, but you can try it and see what the behavior is like. \n",
    "\n",
    "Once you have narrowed it down, make the window even smaller and try it again. If after running the above specification your model reports that .1 is the best optimizer, then you should probably try things like [.05, .08, .1, .12, .15] to try and narrow it down. \n",
    "\n",
    "It can also be good to tune the number of epochs in combination with the learning rate since the number of iterations that you allow the learning rate to reach the minimum can determine if you have let it run long enough to converge to the minimum. "
   ]
  },
  {
   "cell_type": "markdown",
   "metadata": {
    "colab_type": "text",
    "id": "gNTBUWd1aLlA"
   },
   "source": [
    "## Momentum\n",
    "\n",
    "Momentum is a hyperparameter that is more commonly associated with Stochastic Gradient Descent. SGD is a common optimizer because it's what people understand and know, but I doubt it will get you the best results, you can try hyperparameter tuning its attributes and see if you can beat the performance from adam. Momentum is a property that decides the willingness of an optimizer to overshoot the minimum. Imagine a ball rolling down one side of a bowl and then up the opposite side a little bit before settling back to the bottom. The purpose of momentum is to try and escale local minima."
   ]
  },
  {
   "cell_type": "markdown",
   "metadata": {
    "colab_type": "text",
    "id": "xnEG-bCJaLnZ"
   },
   "source": [
    "## Activation Functions\n",
    "\n",
    "We've talked about this a little bit, typically you'l want to use ReLU for hidden layers and either Sigmoid, or Softmax for output layers of binary and multi-class classification implementations respectively, but try other activation functions and see if you can get any better results with sigmoid or tanh or something. There are a lot of activation functions that we haven't really talked about. Maybe you'll get good results with them. Maybe you won't. :) <https://keras.io/activations/>"
   ]
  },
  {
   "cell_type": "markdown",
   "metadata": {
    "colab_type": "text",
    "id": "oul9sPq-dU-h"
   },
   "source": [
    "## Network Weight Initialization\n",
    "\n",
    "You saw how big of an effect the way that we initialize our network's weights can have on our results. There are **a lot** of what are called initialization modes. I don't understand all of them, but they can have a big affect on your model's initial accuracy. Your model will get further with less epochs if you initialize it with weights that are well suited to the problem you're trying to solve.\n",
    "\n",
    "`init_mode = ['uniform', 'lecun_uniform', 'normal', 'zero', 'glorot_normal', 'glorot_uniform', 'he_normal', 'he_uniform']`"
   ]
  },
  {
   "cell_type": "markdown",
   "metadata": {
    "colab_type": "text",
    "id": "bqtEuxeQaLqE"
   },
   "source": [
    "## Dropout Regularization and the Weight Constraint\n",
    "\n",
    "the Dropout Regularization value is a percentage of neurons that you want to be randomly deactivated during training. The weight constraint is a second regularization parameter that works in tandem with dropout regularization. You should tune these two values at the same time. \n",
    "\n",
    "Using dropout on visible vs hidden layers might have a different effect. Using dropout on hidden layers might not have any effect while using dropout on hidden layers might have a substantial effect. You don't necessarily need to turn use dropout unless you see that your model has overfitting and generalizability problems."
   ]
  },
  {
   "cell_type": "markdown",
   "metadata": {
    "colab_type": "text",
    "id": "P2c5Cv6oaLtO"
   },
   "source": [
    "## Neurons in Hidden Layer \n",
    "\n",
    "Remember that when we only had a single perceptron our model was only able to fit to linearly separable data, but as we have added layers and nodes to those layers our network has become a powerhouse of fitting nonlinearity in data. The larger the network and the more nodes generally the stronger the network's capacity to fit nonlinear patterns in data. The more nodes and layers the longer it will take to train a network, and higher the probability of overfitting. The larger your network gets the more you'll need dropout regularization or other regularization techniques to keep it in check. \n",
    "\n",
    "Typically depth (more layers) is more important than width (more nodes) for neural networks. This is part of why Deep Learning is so highly touted. Certain deep learning architectures have truly been huge breakthroughs for certain machine learning tasks. \n",
    "\n",
    "You might borrow ideas from other network architectures. For example if I was doing image recognition and I wasn't taking cues from state of the art architectures like resnet, alexnet, googlenet, etc. Then I'm probably going to have to do a lot more experimentation on my own before I find something that works.\n",
    "\n",
    "There are some heuristics, but I am highly skeptical of them. I think you're better off experimenting on your own and forming your own intuition for these kinds of problems. \n",
    "\n",
    "- https://machinelearningmastery.com/how-to-configure-the-number-of-layers-and-nodes-in-a-neural-network/"
   ]
  },
  {
   "cell_type": "markdown",
   "metadata": {},
   "source": [
    "## Challenge\n",
    "You will be expected to tune several hyperparameters in today's module project. "
   ]
  },
  {
   "cell_type": "markdown",
   "metadata": {},
   "source": [
    "# Experiment Tracking Framework (Learn)\n",
    "<a id=\"p2\"></a>"
   ]
  },
  {
   "cell_type": "markdown",
   "metadata": {},
   "source": [
    "## Overview\n",
    "\n",
    "You will notice quickly that managing the results of all the experiments you are running becomes challenging. Which set of parameters did the best? Are my results today different than my results yesterday? Although we use Ipython Notebooks to work, the format is not well suited to logging experimental results. Enter experiment tracking frameworks like [Comet.ml](https://comet.ml) and [Weights and Biases](https://wandb.ai/).\n",
    "\n",
    "Those tools will help you track your experiments, store the results, and the code associated with those experiments. Experimental results can also be readily visualized to see changes in performance across any metric you care about. Data is sent to the tool as each epoch is completed, so you can also see if your model is converging. Let's check out Weights & Biases today. "
   ]
  },
  {
   "cell_type": "markdown",
   "metadata": {},
   "source": [
    "## Follow Along\n",
    "\n",
    "Make sure you login into `wandb` in the terminal before running the next cell. "
   ]
  },
  {
   "cell_type": "code",
   "execution_count": 14,
   "metadata": {},
   "outputs": [
    {
     "data": {
      "text/html": [
       "\n",
       "                Logging results to <a href=\"https://wandb.com\" target=\"_blank\">Weights & Biases</a> <a href=\"https://docs.wandb.com/integrations/jupyter.html\" target=\"_blank\">(Documentation)</a>.<br/>\n",
       "                Project page: <a href=\"https://app.wandb.ai/ds8/ds9-boston\" target=\"_blank\">https://app.wandb.ai/ds8/ds9-boston</a><br/>\n",
       "                Run page: <a href=\"https://app.wandb.ai/ds8/ds9-boston/runs/60gtdege\" target=\"_blank\">https://app.wandb.ai/ds8/ds9-boston/runs/60gtdege</a><br/>\n",
       "            "
      ],
      "text/plain": [
       "<IPython.core.display.HTML object>"
      ]
     },
     "metadata": {},
     "output_type": "display_data"
    },
    {
     "name": "stderr",
     "output_type": "stream",
     "text": [
      "wandb: Wandb version 0.8.21 is available!  To upgrade, please run:\n",
      "wandb:  $ pip install wandb --upgrade\n"
     ]
    },
    {
     "data": {
      "text/plain": [
       "W&B Run: https://app.wandb.ai/ds8/ds9-boston/runs/60gtdege"
      ]
     },
     "execution_count": 14,
     "metadata": {},
     "output_type": "execute_result"
    }
   ],
   "source": [
    "import wandb\n",
    "from wandb.keras import WandbCallback\n",
    "wandb.init(project=\"ds9-boston\", entity=\"ds8\")"
   ]
  },
  {
   "cell_type": "code",
   "execution_count": 19,
   "metadata": {
    "colab": {
     "base_uri": "https://localhost:8080/",
     "height": 1750
    },
    "colab_type": "code",
    "id": "GMXVfmzXp1Oo",
    "outputId": "b05e251e-508f-46e6-865b-f869ae2a5dc4"
   },
   "outputs": [
    {
     "data": {
      "text/html": [
       "\n",
       "                Logging results to <a href=\"https://wandb.com\" target=\"_blank\">Weights & Biases</a> <a href=\"https://docs.wandb.com/integrations/jupyter.html\" target=\"_blank\">(Documentation)</a>.<br/>\n",
       "                Project page: <a href=\"https://app.wandb.ai/ds8/ds9-boston\" target=\"_blank\">https://app.wandb.ai/ds8/ds9-boston</a><br/>\n",
       "                Run page: <a href=\"https://app.wandb.ai/ds8/ds9-boston/runs/yhu2ub3i\" target=\"_blank\">https://app.wandb.ai/ds8/ds9-boston/runs/yhu2ub3i</a><br/>\n",
       "            "
      ],
      "text/plain": [
       "<IPython.core.display.HTML object>"
      ]
     },
     "metadata": {},
     "output_type": "display_data"
    },
    {
     "name": "stderr",
     "output_type": "stream",
     "text": [
      "wandb: Wandb version 0.8.21 is available!  To upgrade, please run:\n",
      "wandb:  $ pip install wandb --upgrade\n"
     ]
    },
    {
     "name": "stdout",
     "output_type": "stream",
     "text": [
      "Train on 404 samples, validate on 102 samples\n",
      "Epoch 1/200\n",
      "404/404 [==============================] - 0s 1ms/sample - loss: 21313589.8058 - mse: 21313584.0000 - mae: 3109.4402 - val_loss: 545.0002 - val_mse: 536.2849 - val_mae: 19.9804\n",
      "Epoch 2/200\n",
      "404/404 [==============================] - 0s 124us/sample - loss: 490.5443 - mse: 480.3081 - mae: 18.0844 - val_loss: 199.7719 - val_mse: 183.0682 - val_mae: 10.6481\n",
      "Epoch 3/200\n",
      "404/404 [==============================] - 0s 37us/sample - loss: 4035.6647 - mse: 4017.6943 - mae: 47.2765 - val_loss: 3239.0249 - val_mse: 3214.8650 - val_mae: 49.9181\n",
      "Epoch 4/200\n",
      "404/404 [==============================] - 0s 37us/sample - loss: 3714.1301 - mse: 3688.7769 - mae: 44.6258 - val_loss: 534.7371 - val_mse: 504.1700 - val_mae: 20.0114\n",
      "Epoch 5/200\n",
      "404/404 [==============================] - 0s 39us/sample - loss: 514.9180 - mse: 483.4429 - mae: 19.4110 - val_loss: 592.0948 - val_mse: 556.7319 - val_mae: 21.7057\n",
      "Epoch 6/200\n",
      "404/404 [==============================] - 0s 39us/sample - loss: 556.5055 - mse: 520.4589 - mae: 20.7800 - val_loss: 571.1997 - val_mse: 532.1273 - val_mae: 21.1869\n",
      "Epoch 7/200\n",
      "404/404 [==============================] - 0s 37us/sample - loss: 518.1366 - mse: 478.5397 - mae: 19.8475 - val_loss: 445.4396 - val_mse: 403.6635 - val_mae: 17.9003\n",
      "Epoch 8/200\n",
      "404/404 [==============================] - 0s 137us/sample - loss: 374.4941 - mse: 332.3634 - mae: 15.5905 - val_loss: 144.9680 - val_mse: 101.3560 - val_mae: 7.3403\n",
      "Epoch 9/200\n",
      "404/404 [==============================] - 0s 38us/sample - loss: 227.4764 - mse: 183.6198 - mae: 11.0337 - val_loss: 153.4030 - val_mse: 108.5311 - val_mae: 8.5413\n",
      "Epoch 10/200\n",
      "404/404 [==============================] - 0s 38us/sample - loss: 278.3102 - mse: 233.2817 - mae: 12.3263 - val_loss: 182.2002 - val_mse: 136.5681 - val_mae: 9.0974\n",
      "Epoch 11/200\n",
      "404/404 [==============================] - 0s 38us/sample - loss: 217.5093 - mse: 171.7921 - mae: 9.7872 - val_loss: 220.6196 - val_mse: 174.5903 - val_mae: 10.6472\n",
      "Epoch 12/200\n",
      "404/404 [==============================] - 0s 40us/sample - loss: 219.3907 - mse: 173.3240 - mae: 9.7822 - val_loss: 189.5321 - val_mse: 143.3595 - val_mae: 9.3833\n",
      "Epoch 13/200\n",
      "404/404 [==============================] - 0s 44us/sample - loss: 188.6511 - mse: 142.4803 - mae: 8.7918 - val_loss: 157.2489 - val_mse: 111.1463 - val_mae: 7.8885\n",
      "Epoch 14/200\n",
      "404/404 [==============================] - 0s 41us/sample - loss: 174.9888 - mse: 128.9153 - mae: 8.7051 - val_loss: 149.7742 - val_mse: 103.8764 - val_mae: 7.4828\n",
      "Epoch 15/200\n",
      "404/404 [==============================] - 0s 142us/sample - loss: 179.5256 - mse: 133.6748 - mae: 8.8175 - val_loss: 142.5266 - val_mse: 96.9326 - val_mae: 7.1010\n",
      "Epoch 16/200\n",
      "404/404 [==============================] - 0s 41us/sample - loss: 155.6550 - mse: 110.1221 - mae: 8.2757 - val_loss: 151.0756 - val_mse: 105.8526 - val_mae: 7.5988\n",
      "Epoch 17/200\n",
      "404/404 [==============================] - 0s 44us/sample - loss: 158.4107 - mse: 113.2561 - mae: 7.9916 - val_loss: 154.9055 - val_mse: 110.0919 - val_mae: 7.8331\n",
      "Epoch 18/200\n",
      "404/404 [==============================] - 0s 139us/sample - loss: 172.4505 - mse: 127.7105 - mae: 8.5589 - val_loss: 137.2038 - val_mse: 92.8258 - val_mae: 6.8668\n",
      "Epoch 19/200\n",
      "404/404 [==============================] - 0s 43us/sample - loss: 178.0570 - mse: 133.7552 - mae: 9.0474 - val_loss: 139.4841 - val_mse: 95.5519 - val_mae: 7.0221\n",
      "Epoch 20/200\n",
      "404/404 [==============================] - 0s 40us/sample - loss: 161.0255 - mse: 117.1706 - mae: 8.0345 - val_loss: 199.2596 - val_mse: 155.7782 - val_mae: 9.8922\n",
      "Epoch 21/200\n",
      "404/404 [==============================] - 0s 37us/sample - loss: 183.1810 - mse: 139.7769 - mae: 8.7799 - val_loss: 237.5903 - val_mse: 194.5578 - val_mae: 11.4075\n",
      "Epoch 22/200\n",
      "404/404 [==============================] - 0s 38us/sample - loss: 194.5964 - mse: 151.6403 - mae: 9.1658 - val_loss: 202.6001 - val_mse: 160.0110 - val_mae: 10.0627\n",
      "Epoch 23/200\n",
      "404/404 [==============================] - 0s 127us/sample - loss: 165.0586 - mse: 122.5447 - mae: 7.9813 - val_loss: 129.9022 - val_mse: 87.7488 - val_mae: 6.6176\n",
      "Epoch 24/200\n",
      "404/404 [==============================] - 0s 129us/sample - loss: 182.1529 - mse: 140.0732 - mae: 9.3342 - val_loss: 126.3352 - val_mse: 84.6080 - val_mae: 6.8520\n",
      "Epoch 25/200\n",
      "404/404 [==============================] - 0s 42us/sample - loss: 206.0788 - mse: 164.4236 - mae: 10.7234 - val_loss: 134.1709 - val_mse: 92.8597 - val_mae: 6.8687\n",
      "Epoch 26/200\n",
      "404/404 [==============================] - 0s 42us/sample - loss: 141.7308 - mse: 100.4898 - mae: 7.7452 - val_loss: 169.8655 - val_mse: 128.9595 - val_mae: 8.7602\n",
      "Epoch 27/200\n",
      "404/404 [==============================] - 0s 41us/sample - loss: 159.4409 - mse: 118.6033 - mae: 7.7725 - val_loss: 180.5141 - val_mse: 140.0027 - val_mae: 9.2426\n",
      "Epoch 28/200\n",
      "404/404 [==============================] - 0s 43us/sample - loss: 162.7677 - mse: 122.3228 - mae: 7.9923 - val_loss: 162.8980 - val_mse: 122.7703 - val_mae: 8.4756\n",
      "Epoch 29/200\n",
      "404/404 [==============================] - 0s 37us/sample - loss: 158.0453 - mse: 117.9823 - mae: 7.9973 - val_loss: 144.9860 - val_mse: 105.2317 - val_mae: 7.5627\n",
      "Epoch 30/200\n",
      "404/404 [==============================] - 0s 36us/sample - loss: 146.5012 - mse: 106.8098 - mae: 7.7211 - val_loss: 151.0080 - val_mse: 111.6168 - val_mae: 7.9137\n",
      "Epoch 31/200\n",
      "404/404 [==============================] - 0s 42us/sample - loss: 148.6406 - mse: 109.3107 - mae: 7.6901 - val_loss: 166.2364 - val_mse: 127.1985 - val_mae: 8.6803\n",
      "Epoch 32/200\n",
      "404/404 [==============================] - 0s 44us/sample - loss: 148.9020 - mse: 109.9236 - mae: 7.6214 - val_loss: 169.1320 - val_mse: 130.4379 - val_mae: 8.8261\n",
      "Epoch 33/200\n",
      "404/404 [==============================] - 0s 38us/sample - loss: 144.4109 - mse: 105.7747 - mae: 7.4851 - val_loss: 149.2345 - val_mse: 110.8750 - val_mae: 7.8743\n",
      "Epoch 34/200\n",
      "404/404 [==============================] - 0s 38us/sample - loss: 139.1469 - mse: 100.8438 - mae: 7.5688 - val_loss: 136.9698 - val_mse: 98.9362 - val_mae: 7.2087\n",
      "Epoch 35/200\n",
      "404/404 [==============================] - 0s 39us/sample - loss: 151.7397 - mse: 113.7610 - mae: 8.4148 - val_loss: 143.7583 - val_mse: 106.0421 - val_mae: 7.6097\n",
      "Epoch 36/200\n",
      "404/404 [==============================] - 0s 38us/sample - loss: 139.9134 - mse: 102.2506 - mae: 7.6476 - val_loss: 156.9757 - val_mse: 119.5688 - val_mae: 8.3227\n",
      "Epoch 37/200\n",
      "404/404 [==============================] - 0s 35us/sample - loss: 142.7980 - mse: 105.4433 - mae: 7.5261 - val_loss: 152.6988 - val_mse: 115.5934 - val_mae: 8.1231\n",
      "Epoch 38/200\n",
      "404/404 [==============================] - 0s 34us/sample - loss: 136.9573 - mse: 99.9028 - mae: 7.2075 - val_loss: 130.0049 - val_mse: 93.1938 - val_mae: 6.8876\n",
      "Epoch 39/200\n",
      "404/404 [==============================] - 0s 124us/sample - loss: 135.8261 - mse: 99.0646 - mae: 7.6864 - val_loss: 123.9157 - val_mse: 87.3915 - val_mae: 6.6024\n",
      "Epoch 40/200\n",
      "404/404 [==============================] - 0s 35us/sample - loss: 142.1747 - mse: 105.6990 - mae: 8.1001 - val_loss: 124.7467 - val_mse: 88.5027 - val_mae: 6.6525\n",
      "Epoch 41/200\n",
      "404/404 [==============================] - 0s 39us/sample - loss: 149.9834 - mse: 113.7867 - mae: 8.2460 - val_loss: 155.6734 - val_mse: 119.7029 - val_mae: 8.3292\n",
      "Epoch 42/200\n",
      "404/404 [==============================] - 0s 43us/sample - loss: 148.1430 - mse: 112.2188 - mae: 7.7665 - val_loss: 171.8623 - val_mse: 136.1591 - val_mae: 9.0798\n",
      "Epoch 43/200\n",
      "404/404 [==============================] - 0s 42us/sample - loss: 153.3441 - mse: 117.6861 - mae: 7.6261 - val_loss: 140.6555 - val_mse: 105.2134 - val_mae: 7.5617\n",
      "Epoch 44/200\n",
      "404/404 [==============================] - 0s 130us/sample - loss: 139.5803 - mse: 104.1824 - mae: 7.4111 - val_loss: 120.9442 - val_mse: 85.7574 - val_mae: 6.5361\n",
      "Epoch 45/200\n",
      "404/404 [==============================] - 0s 34us/sample - loss: 131.1734 - mse: 96.0297 - mae: 7.3692 - val_loss: 125.0521 - val_mse: 90.1149 - val_mae: 6.7305\n",
      "Epoch 46/200\n",
      "404/404 [==============================] - 0s 34us/sample - loss: 136.1524 - mse: 101.2573 - mae: 7.4291 - val_loss: 157.4710 - val_mse: 122.7779 - val_mae: 8.4760\n",
      "Epoch 47/200\n",
      "404/404 [==============================] - 0s 31us/sample - loss: 131.5058 - mse: 96.8539 - mae: 7.1250 - val_loss: 144.7690 - val_mse: 110.3147 - val_mae: 7.8448\n",
      "Epoch 48/200\n",
      "404/404 [==============================] - 0s 30us/sample - loss: 134.9894 - mse: 100.5754 - mae: 7.3604 - val_loss: 140.5154 - val_mse: 106.2948 - val_mae: 7.6242\n",
      "Epoch 49/200\n",
      "404/404 [==============================] - 0s 30us/sample - loss: 133.0497 - mse: 98.8687 - mae: 7.3465 - val_loss: 136.5487 - val_mse: 102.5569 - val_mae: 7.4080\n",
      "Epoch 50/200\n",
      "404/404 [==============================] - 0s 30us/sample - loss: 133.5369 - mse: 99.5838 - mae: 7.3315 - val_loss: 134.2253 - val_mse: 100.4575 - val_mae: 7.2906\n",
      "Epoch 51/200\n",
      "404/404 [==============================] - 0s 31us/sample - loss: 135.7140 - mse: 101.9841 - mae: 7.4040 - val_loss: 131.4851 - val_mse: 97.9368 - val_mae: 7.1559\n",
      "Epoch 52/200\n",
      "404/404 [==============================] - 0s 30us/sample - loss: 132.7143 - mse: 99.2031 - mae: 7.5722 - val_loss: 137.2485 - val_mse: 103.9151 - val_mae: 7.4851\n",
      "Epoch 53/200\n",
      "404/404 [==============================] - 0s 29us/sample - loss: 132.0458 - mse: 98.7488 - mae: 7.2391 - val_loss: 156.0911 - val_mse: 122.9683 - val_mae: 8.4849\n",
      "Epoch 54/200\n",
      "404/404 [==============================] - 0s 49us/sample - loss: 128.8310 - mse: 95.7439 - mae: 7.0799 - val_loss: 135.1438 - val_mse: 102.2274 - val_mae: 7.3895\n",
      "Epoch 55/200\n",
      "404/404 [==============================] - 0s 155us/sample - loss: 129.4497 - mse: 96.5683 - mae: 7.5525 - val_loss: 116.2535 - val_mse: 83.5395 - val_mae: 6.5439\n",
      "Epoch 56/200\n",
      "404/404 [==============================] - 0s 37us/sample - loss: 146.9373 - mse: 114.2576 - mae: 8.7704 - val_loss: 122.1955 - val_mse: 89.6799 - val_mae: 6.7098\n",
      "Epoch 57/200\n",
      "404/404 [==============================] - 0s 31us/sample - loss: 128.1846 - mse: 95.7026 - mae: 7.3395 - val_loss: 165.7503 - val_mse: 133.4294 - val_mae: 8.9605\n",
      "Epoch 58/200\n",
      "404/404 [==============================] - 0s 33us/sample - loss: 138.7580 - mse: 106.4700 - mae: 7.2336 - val_loss: 206.7722 - val_mse: 174.6422 - val_mae: 10.6492\n",
      "Epoch 59/200\n",
      "404/404 [==============================] - 0s 37us/sample - loss: 153.1835 - mse: 121.0858 - mae: 7.8125 - val_loss: 187.4464 - val_mse: 155.5037 - val_mae: 9.8814\n",
      "Epoch 60/200\n",
      "404/404 [==============================] - 0s 31us/sample - loss: 135.9613 - mse: 104.0502 - mae: 7.1702 - val_loss: 131.8495 - val_mse: 100.0906 - val_mae: 7.2706\n",
      "Epoch 61/200\n",
      "404/404 [==============================] - 0s 32us/sample - loss: 128.3364 - mse: 96.6086 - mae: 7.4271 - val_loss: 116.3629 - val_mse: 84.7844 - val_mae: 6.5162\n",
      "Epoch 62/200\n",
      "404/404 [==============================] - 0s 29us/sample - loss: 139.7297 - mse: 108.1818 - mae: 8.3714 - val_loss: 121.3509 - val_mse: 89.9495 - val_mae: 6.7224\n",
      "Epoch 63/200\n",
      "404/404 [==============================] - 0s 35us/sample - loss: 130.8037 - mse: 99.4323 - mae: 7.7517 - val_loss: 132.9785 - val_mse: 101.7509 - val_mae: 7.3625\n",
      "Epoch 64/200\n",
      "404/404 [==============================] - 0s 30us/sample - loss: 120.6029 - mse: 89.4048 - mae: 7.1325 - val_loss: 129.5231 - val_mse: 98.4663 - val_mae: 7.1840\n",
      "Epoch 65/200\n",
      "404/404 [==============================] - 0s 32us/sample - loss: 121.6806 - mse: 90.6527 - mae: 7.3189 - val_loss: 120.9963 - val_mse: 90.1072 - val_mae: 6.7302\n",
      "Epoch 66/200\n",
      "404/404 [==============================] - 0s 119us/sample - loss: 122.5039 - mse: 91.6432 - mae: 7.2259 - val_loss: 114.0822 - val_mse: 83.3578 - val_mae: 6.5609\n",
      "Epoch 67/200\n",
      "404/404 [==============================] - 0s 118us/sample - loss: 122.9815 - mse: 92.2850 - mae: 7.3211 - val_loss: 113.9745 - val_mse: 83.4120 - val_mae: 6.6759\n",
      "Epoch 68/200\n",
      "404/404 [==============================] - 0s 27us/sample - loss: 121.3525 - mse: 90.8174 - mae: 7.1150 - val_loss: 122.2805 - val_mse: 91.8770 - val_mae: 6.8156\n",
      "Epoch 69/200\n",
      "404/404 [==============================] - 0s 28us/sample - loss: 117.2769 - mse: 86.9004 - mae: 6.6221 - val_loss: 137.6124 - val_mse: 107.3652 - val_mae: 7.6847\n",
      "Epoch 70/200\n",
      "404/404 [==============================] - 0s 27us/sample - loss: 120.2247 - mse: 90.0041 - mae: 6.7305 - val_loss: 130.8659 - val_mse: 100.7724 - val_mae: 7.3078\n",
      "Epoch 71/200\n",
      "404/404 [==============================] - 0s 26us/sample - loss: 120.2324 - mse: 90.1649 - mae: 7.1631 - val_loss: 123.6190 - val_mse: 93.6765 - val_mae: 6.9143\n",
      "Epoch 72/200\n",
      "404/404 [==============================] - 0s 29us/sample - loss: 123.6225 - mse: 93.7056 - mae: 7.2776 - val_loss: 133.5582 - val_mse: 103.7642 - val_mae: 7.4763\n",
      "Epoch 73/200\n",
      "404/404 [==============================] - 0s 28us/sample - loss: 120.6912 - mse: 90.9223 - mae: 6.8451 - val_loss: 154.6932 - val_mse: 125.0452 - val_mae: 8.5806\n",
      "Epoch 74/200\n",
      "404/404 [==============================] - 0s 30us/sample - loss: 120.6564 - mse: 91.0331 - mae: 6.7082 - val_loss: 147.1112 - val_mse: 117.6068 - val_mae: 8.2256\n",
      "Epoch 75/200\n",
      "404/404 [==============================] - 0s 26us/sample - loss: 121.9914 - mse: 92.5113 - mae: 6.7104 - val_loss: 135.3809 - val_mse: 106.0176 - val_mae: 7.6083\n",
      "Epoch 76/200\n",
      "404/404 [==============================] - 0s 29us/sample - loss: 117.8867 - mse: 88.5474 - mae: 6.9640 - val_loss: 121.7735 - val_mse: 92.5492 - val_mae: 6.8515\n",
      "Epoch 77/200\n",
      "404/404 [==============================] - 0s 29us/sample - loss: 123.2797 - mse: 94.0789 - mae: 7.5801 - val_loss: 115.7644 - val_mse: 86.6767 - val_mae: 6.5710\n",
      "Epoch 78/200\n",
      "404/404 [==============================] - 0s 27us/sample - loss: 127.2726 - mse: 98.2081 - mae: 7.9750 - val_loss: 116.2733 - val_mse: 87.3202 - val_mae: 6.5993\n",
      "Epoch 79/200\n",
      "404/404 [==============================] - 0s 30us/sample - loss: 118.0859 - mse: 89.1555 - mae: 7.2231 - val_loss: 120.7373 - val_mse: 91.9164 - val_mae: 6.8176\n",
      "Epoch 80/200\n",
      "404/404 [==============================] - 0s 26us/sample - loss: 123.1321 - mse: 94.3337 - mae: 6.9022 - val_loss: 122.4063 - val_mse: 93.7157 - val_mae: 6.9164\n",
      "Epoch 81/200\n",
      "404/404 [==============================] - 0s 30us/sample - loss: 118.1000 - mse: 89.4315 - mae: 6.7661 - val_loss: 126.4858 - val_mse: 97.9233 - val_mae: 7.1551\n",
      "Epoch 82/200\n",
      "404/404 [==============================] - 0s 27us/sample - loss: 116.8784 - mse: 88.3376 - mae: 6.8934 - val_loss: 122.1212 - val_mse: 93.6848 - val_mae: 6.9147\n",
      "Epoch 83/200\n",
      "404/404 [==============================] - 0s 29us/sample - loss: 115.2796 - mse: 86.8646 - mae: 7.1051 - val_loss: 128.4524 - val_mse: 100.1402 - val_mae: 7.2733\n",
      "Epoch 84/200\n",
      "404/404 [==============================] - 0s 29us/sample - loss: 115.2027 - mse: 86.9116 - mae: 6.7096 - val_loss: 145.7240 - val_mse: 117.5340 - val_mae: 8.2220\n",
      "Epoch 85/200\n",
      "404/404 [==============================] - 0s 27us/sample - loss: 120.3091 - mse: 92.1399 - mae: 6.7621 - val_loss: 154.1620 - val_mse: 126.0924 - val_mae: 8.6292\n",
      "Epoch 86/200\n",
      "404/404 [==============================] - 0s 30us/sample - loss: 119.6784 - mse: 91.6292 - mae: 6.6638 - val_loss: 149.4274 - val_mse: 121.4763 - val_mae: 8.4146\n",
      "Epoch 87/200\n",
      "404/404 [==============================] - 0s 25us/sample - loss: 118.2549 - mse: 90.3239 - mae: 6.7019 - val_loss: 135.6550 - val_mse: 107.8207 - val_mae: 7.7101\n",
      "Epoch 88/200\n",
      "404/404 [==============================] - 0s 27us/sample - loss: 119.2377 - mse: 91.4231 - mae: 6.8803 - val_loss: 130.0520 - val_mse: 102.3326 - val_mae: 7.3954\n",
      "Epoch 89/200\n",
      "404/404 [==============================] - 0s 26us/sample - loss: 114.6881 - mse: 86.9882 - mae: 6.8921 - val_loss: 133.0117 - val_mse: 105.4055 - val_mae: 7.5729\n",
      "Epoch 90/200\n",
      "404/404 [==============================] - 0s 23us/sample - loss: 114.7843 - mse: 87.1974 - mae: 6.8603 - val_loss: 132.7164 - val_mse: 105.2217 - val_mae: 7.5621\n",
      "Epoch 91/200\n",
      "404/404 [==============================] - 0s 28us/sample - loss: 114.4287 - mse: 86.9530 - mae: 6.8747 - val_loss: 135.2897 - val_mse: 107.9049 - val_mae: 7.7147\n",
      "Epoch 92/200\n",
      "404/404 [==============================] - 0s 24us/sample - loss: 115.3207 - mse: 87.9546 - mae: 6.6428 - val_loss: 142.5106 - val_mse: 115.2340 - val_mae: 8.1044\n",
      "Epoch 93/200\n",
      "404/404 [==============================] - 0s 26us/sample - loss: 114.7179 - mse: 87.4597 - mae: 6.5933 - val_loss: 133.2781 - val_mse: 106.1082 - val_mae: 7.6135\n",
      "Epoch 94/200\n",
      "404/404 [==============================] - 0s 27us/sample - loss: 114.3871 - mse: 87.2354 - mae: 6.7684 - val_loss: 125.7058 - val_mse: 98.6410 - val_mae: 7.1932\n",
      "Epoch 95/200\n",
      "404/404 [==============================] - 0s 23us/sample - loss: 112.2611 - mse: 85.2142 - mae: 6.7785 - val_loss: 127.9346 - val_mse: 100.9733 - val_mae: 7.3191\n",
      "Epoch 96/200\n",
      "404/404 [==============================] - 0s 24us/sample - loss: 113.9236 - mse: 86.9800 - mae: 6.7838 - val_loss: 142.5150 - val_mse: 115.6558 - val_mae: 8.1263\n",
      "Epoch 97/200\n",
      "404/404 [==============================] - 0s 25us/sample - loss: 117.6041 - mse: 90.7623 - mae: 6.6258 - val_loss: 151.7462 - val_mse: 124.9876 - val_mae: 8.5779\n",
      "Epoch 98/200\n",
      "404/404 [==============================] - 0s 25us/sample - loss: 118.6521 - mse: 91.9106 - mae: 6.6771 - val_loss: 143.5932 - val_mse: 116.9337 - val_mae: 8.1917\n",
      "Epoch 99/200\n",
      "404/404 [==============================] - 0s 26us/sample - loss: 114.8910 - mse: 88.2484 - mae: 6.4909 - val_loss: 132.3813 - val_mse: 105.8196 - val_mae: 7.5969\n",
      "Epoch 100/200\n",
      "404/404 [==============================] - 0s 28us/sample - loss: 113.2666 - mse: 86.7215 - mae: 6.6933 - val_loss: 126.4191 - val_mse: 99.9538 - val_mae: 7.2630\n",
      "Epoch 101/200\n",
      "404/404 [==============================] - 0s 27us/sample - loss: 112.4350 - mse: 85.9860 - mae: 6.6874 - val_loss: 123.9777 - val_mse: 97.6073 - val_mae: 7.1381\n",
      "Epoch 102/200\n",
      "404/404 [==============================] - 0s 27us/sample - loss: 111.9857 - mse: 85.6315 - mae: 6.7600 - val_loss: 125.9107 - val_mse: 99.6339 - val_mae: 7.2459\n",
      "Epoch 103/200\n",
      "404/404 [==============================] - 0s 25us/sample - loss: 113.0065 - mse: 86.7457 - mae: 6.7388 - val_loss: 128.8785 - val_mse: 102.6941 - val_mae: 7.4156\n",
      "Epoch 104/200\n",
      "404/404 [==============================] - 0s 30us/sample - loss: 113.5842 - mse: 87.4155 - mae: 6.7326 - val_loss: 131.7801 - val_mse: 105.6868 - val_mae: 7.5892\n",
      "Epoch 105/200\n",
      "404/404 [==============================] - 0s 27us/sample - loss: 112.8409 - mse: 86.7630 - mae: 6.5962 - val_loss: 133.8786 - val_mse: 107.8750 - val_mae: 7.7131\n",
      "Epoch 106/200\n",
      "404/404 [==============================] - 0s 28us/sample - loss: 113.4146 - mse: 87.4263 - mae: 6.6140 - val_loss: 131.3357 - val_mse: 105.4207 - val_mae: 7.5738\n",
      "Epoch 107/200\n",
      "404/404 [==============================] - 0s 30us/sample - loss: 111.4071 - mse: 85.5072 - mae: 6.5998 - val_loss: 126.9065 - val_mse: 101.0788 - val_mae: 7.3250\n",
      "Epoch 108/200\n",
      "404/404 [==============================] - 0s 28us/sample - loss: 109.8327 - mse: 84.0199 - mae: 6.6819 - val_loss: 119.5966 - val_mse: 93.8551 - val_mae: 6.9240\n",
      "Epoch 109/200\n",
      "404/404 [==============================] - 0s 26us/sample - loss: 112.3537 - mse: 86.6269 - mae: 7.0097 - val_loss: 122.6938 - val_mse: 97.0373 - val_mae: 7.1068\n",
      "Epoch 110/200\n",
      "404/404 [==============================] - 0s 27us/sample - loss: 110.8923 - mse: 85.2502 - mae: 6.6740 - val_loss: 140.2981 - val_mse: 114.7253 - val_mae: 8.0779\n",
      "Epoch 111/200\n",
      "404/404 [==============================] - 0s 26us/sample - loss: 113.3902 - mse: 87.8317 - mae: 6.5685 - val_loss: 143.8829 - val_mse: 118.3928 - val_mae: 8.2648\n",
      "Epoch 112/200\n",
      "404/404 [==============================] - 0s 25us/sample - loss: 120.2952 - mse: 94.8192 - mae: 6.7482 - val_loss: 140.8970 - val_mse: 115.4885 - val_mae: 8.1177\n",
      "Epoch 113/200\n",
      "404/404 [==============================] - 0s 24us/sample - loss: 116.8342 - mse: 91.4396 - mae: 6.6220 - val_loss: 134.8696 - val_mse: 109.5416 - val_mae: 7.8038\n",
      "Epoch 114/200\n",
      "404/404 [==============================] - 0s 25us/sample - loss: 112.0871 - mse: 86.7728 - mae: 6.5594 - val_loss: 131.3427 - val_mse: 106.0941 - val_mae: 7.6127\n",
      "Epoch 115/200\n",
      "404/404 [==============================] - 0s 28us/sample - loss: 112.6592 - mse: 87.4241 - mae: 6.6655 - val_loss: 128.0649 - val_mse: 102.8946 - val_mae: 7.4267\n",
      "Epoch 116/200\n",
      "404/404 [==============================] - 0s 25us/sample - loss: 111.2976 - mse: 86.1406 - mae: 6.6824 - val_loss: 114.4080 - val_mse: 89.3151 - val_mae: 6.6927\n",
      "Epoch 117/200\n",
      "404/404 [==============================] - 0s 108us/sample - loss: 117.7081 - mse: 92.6283 - mae: 7.5175 - val_loss: 110.0902 - val_mse: 85.0736 - val_mae: 6.5206\n",
      "Epoch 118/200\n",
      "404/404 [==============================] - 0s 27us/sample - loss: 118.7555 - mse: 93.7518 - mae: 7.6562 - val_loss: 121.4234 - val_mse: 96.4821 - val_mae: 7.0757\n",
      "Epoch 119/200\n",
      "404/404 [==============================] - 0s 25us/sample - loss: 110.4446 - mse: 85.5161 - mae: 6.8107 - val_loss: 122.2704 - val_mse: 97.4034 - val_mae: 7.1269\n",
      "Epoch 120/200\n",
      "404/404 [==============================] - 0s 34us/sample - loss: 111.2017 - mse: 86.3473 - mae: 6.6179 - val_loss: 118.9666 - val_mse: 94.1729 - val_mae: 6.9422\n",
      "Epoch 121/200\n",
      "404/404 [==============================] - 0s 118us/sample - loss: 110.9023 - mse: 86.1211 - mae: 6.9094 - val_loss: 109.8076 - val_mse: 85.0863 - val_mae: 6.5207\n",
      "Epoch 122/200\n",
      "404/404 [==============================] - 0s 116us/sample - loss: 128.6444 - mse: 103.9354 - mae: 8.4722 - val_loss: 107.9698 - val_mse: 83.3199 - val_mae: 6.6479\n",
      "Epoch 123/200\n",
      "404/404 [==============================] - 0s 27us/sample - loss: 132.2216 - mse: 107.5839 - mae: 8.5736 - val_loss: 115.0014 - val_mse: 90.4221 - val_mae: 6.7453\n",
      "Epoch 124/200\n",
      "404/404 [==============================] - 0s 30us/sample - loss: 111.4550 - mse: 86.8877 - mae: 7.0469 - val_loss: 130.9658 - val_mse: 106.4561 - val_mae: 7.6334\n",
      "Epoch 125/200\n",
      "404/404 [==============================] - 0s 30us/sample - loss: 117.0281 - mse: 92.5303 - mae: 6.7807 - val_loss: 138.2759 - val_mse: 113.8350 - val_mae: 8.0309\n",
      "Epoch 126/200\n",
      "404/404 [==============================] - 0s 28us/sample - loss: 129.3152 - mse: 104.8859 - mae: 7.2228 - val_loss: 135.1966 - val_mse: 110.8235 - val_mae: 7.8716\n",
      "Epoch 127/200\n",
      "404/404 [==============================] - 0s 30us/sample - loss: 126.6240 - mse: 102.2625 - mae: 7.0803 - val_loss: 126.0602 - val_mse: 101.7541 - val_mae: 7.3627\n",
      "Epoch 128/200\n",
      "404/404 [==============================] - 0s 26us/sample - loss: 115.6299 - mse: 91.3353 - mae: 6.6124 - val_loss: 113.9207 - val_mse: 89.6808 - val_mae: 6.7099\n",
      "Epoch 129/200\n",
      "404/404 [==============================] - 0s 122us/sample - loss: 109.3089 - mse: 85.0803 - mae: 6.6222 - val_loss: 107.7505 - val_mse: 83.5759 - val_mae: 6.5413\n",
      "Epoch 130/200\n",
      "404/404 [==============================] - 0s 27us/sample - loss: 115.1467 - mse: 90.9833 - mae: 7.3023 - val_loss: 109.1814 - val_mse: 85.0714 - val_mae: 6.9075\n",
      "Epoch 131/200\n",
      "404/404 [==============================] - 0s 124us/sample - loss: 114.7405 - mse: 90.6414 - mae: 7.5051 - val_loss: 107.5178 - val_mse: 83.4714 - val_mae: 6.6904\n",
      "Epoch 132/200\n",
      "404/404 [==============================] - 0s 28us/sample - loss: 111.5168 - mse: 87.4813 - mae: 7.1005 - val_loss: 112.7847 - val_mse: 88.8012 - val_mae: 6.6676\n",
      "Epoch 133/200\n",
      "404/404 [==============================] - 0s 30us/sample - loss: 112.8616 - mse: 88.8889 - mae: 6.7678 - val_loss: 121.6487 - val_mse: 97.7273 - val_mae: 7.1446\n",
      "Epoch 134/200\n",
      "404/404 [==============================] - 0s 29us/sample - loss: 113.4662 - mse: 89.5554 - mae: 6.8237 - val_loss: 130.7749 - val_mse: 106.9150 - val_mae: 7.6595\n",
      "Epoch 135/200\n",
      "404/404 [==============================] - 0s 29us/sample - loss: 112.9284 - mse: 89.0789 - mae: 6.7073 - val_loss: 127.8551 - val_mse: 104.0557 - val_mae: 7.4933\n",
      "Epoch 136/200\n",
      "404/404 [==============================] - 0s 32us/sample - loss: 110.5557 - mse: 86.7666 - mae: 6.7325 - val_loss: 122.7672 - val_mse: 99.0276 - val_mae: 7.2134\n",
      "Epoch 137/200\n",
      "404/404 [==============================] - 0s 27us/sample - loss: 108.7729 - mse: 85.0436 - mae: 6.7058 - val_loss: 121.0406 - val_mse: 97.3602 - val_mae: 7.1246\n",
      "Epoch 138/200\n",
      "404/404 [==============================] - 0s 32us/sample - loss: 110.6773 - mse: 87.0070 - mae: 6.8182 - val_loss: 121.0615 - val_mse: 97.4395 - val_mae: 7.1289\n",
      "Epoch 139/200\n",
      "404/404 [==============================] - 0s 31us/sample - loss: 108.9761 - mse: 85.3640 - mae: 6.7212 - val_loss: 126.2786 - val_mse: 102.7142 - val_mae: 7.4167\n",
      "Epoch 140/200\n",
      "404/404 [==============================] - 0s 32us/sample - loss: 109.0936 - mse: 85.5391 - mae: 6.6047 - val_loss: 130.5670 - val_mse: 107.0597 - val_mae: 7.6676\n",
      "Epoch 141/200\n",
      "404/404 [==============================] - 0s 30us/sample - loss: 109.3929 - mse: 85.8953 - mae: 6.5578 - val_loss: 130.8687 - val_mse: 107.4176 - val_mae: 7.6877\n",
      "Epoch 142/200\n",
      "404/404 [==============================] - 0s 31us/sample - loss: 109.8695 - mse: 86.4281 - mae: 6.5422 - val_loss: 134.2488 - val_mse: 110.8533 - val_mae: 7.8731\n",
      "Epoch 143/200\n",
      "404/404 [==============================] - 0s 32us/sample - loss: 111.5989 - mse: 88.2129 - mae: 6.5792 - val_loss: 128.7293 - val_mse: 105.3887 - val_mae: 7.5719\n",
      "Epoch 144/200\n",
      "404/404 [==============================] - 0s 32us/sample - loss: 108.1018 - mse: 84.7707 - mae: 6.6229 - val_loss: 113.3274 - val_mse: 90.0411 - val_mae: 6.7269\n",
      "Epoch 145/200\n",
      "404/404 [==============================] - 0s 30us/sample - loss: 112.3318 - mse: 89.0548 - mae: 7.2618 - val_loss: 110.2718 - val_mse: 87.0392 - val_mae: 6.5868\n",
      "Epoch 146/200\n",
      "404/404 [==============================] - 0s 29us/sample - loss: 113.7169 - mse: 90.4934 - mae: 7.5029 - val_loss: 113.4505 - val_mse: 90.2710 - val_mae: 6.7381\n",
      "Epoch 147/200\n",
      "404/404 [==============================] - 0s 29us/sample - loss: 110.4007 - mse: 87.2301 - mae: 7.0088 - val_loss: 126.6447 - val_mse: 103.5175 - val_mae: 7.4618\n",
      "Epoch 148/200\n",
      "404/404 [==============================] - 0s 30us/sample - loss: 109.0675 - mse: 85.9492 - mae: 6.6056 - val_loss: 136.4439 - val_mse: 113.3684 - val_mae: 8.0060\n",
      "Epoch 149/200\n",
      "404/404 [==============================] - 0s 33us/sample - loss: 111.6845 - mse: 88.6178 - mae: 6.6487 - val_loss: 129.1819 - val_mse: 106.1575 - val_mae: 7.6164\n",
      "Epoch 150/200\n",
      "404/404 [==============================] - 0s 28us/sample - loss: 107.9622 - mse: 84.9465 - mae: 6.6089 - val_loss: 121.3204 - val_mse: 98.3465 - val_mae: 7.1777\n",
      "Epoch 151/200\n",
      "404/404 [==============================] - 0s 35us/sample - loss: 109.8175 - mse: 86.8523 - mae: 6.7066 - val_loss: 129.8714 - val_mse: 106.9474 - val_mae: 7.6613\n",
      "Epoch 152/200\n",
      "404/404 [==============================] - 0s 27us/sample - loss: 108.3455 - mse: 85.4301 - mae: 6.5362 - val_loss: 136.8693 - val_mse: 113.9948 - val_mae: 8.0394\n",
      "Epoch 153/200\n",
      "404/404 [==============================] - 0s 29us/sample - loss: 111.4695 - mse: 88.6034 - mae: 6.6134 - val_loss: 142.0789 - val_mse: 119.2532 - val_mae: 8.3073\n",
      "Epoch 154/200\n",
      "404/404 [==============================] - 0s 31us/sample - loss: 112.6399 - mse: 89.8224 - mae: 6.5596 - val_loss: 143.3887 - val_mse: 120.6111 - val_mae: 8.3732\n",
      "Epoch 155/200\n",
      "404/404 [==============================] - 0s 28us/sample - loss: 111.9556 - mse: 89.1863 - mae: 6.5471 - val_loss: 139.6702 - val_mse: 116.9403 - val_mae: 8.1920\n",
      "Epoch 156/200\n",
      "404/404 [==============================] - 0s 32us/sample - loss: 109.8057 - mse: 87.0839 - mae: 6.5772 - val_loss: 136.7601 - val_mse: 114.0773 - val_mae: 8.0437\n",
      "Epoch 157/200\n",
      "404/404 [==============================] - 0s 30us/sample - loss: 113.3334 - mse: 90.6586 - mae: 6.7712 - val_loss: 124.0806 - val_mse: 101.4443 - val_mae: 7.3452\n",
      "Epoch 158/200\n",
      "404/404 [==============================] - 0s 28us/sample - loss: 108.4415 - mse: 85.8132 - mae: 6.8604 - val_loss: 109.2043 - val_mse: 86.6141 - val_mae: 6.5687\n",
      "Epoch 159/200\n",
      "404/404 [==============================] - 0s 124us/sample - loss: 116.4695 - mse: 93.8871 - mae: 7.7866 - val_loss: 105.9798 - val_mse: 83.4350 - val_mae: 6.5523\n",
      "Epoch 160/200\n",
      "404/404 [==============================] - 0s 34us/sample - loss: 123.4260 - mse: 100.8889 - mae: 8.2906 - val_loss: 107.0720 - val_mse: 84.5722 - val_mae: 6.5137\n",
      "Epoch 161/200\n",
      "404/404 [==============================] - 0s 27us/sample - loss: 116.0843 - mse: 93.5922 - mae: 7.6877 - val_loss: 121.6767 - val_mse: 99.2213 - val_mae: 7.2238\n",
      "Epoch 162/200\n",
      "404/404 [==============================] - 0s 32us/sample - loss: 109.0340 - mse: 86.5862 - mae: 6.6889 - val_loss: 137.5408 - val_mse: 115.1294 - val_mae: 8.0990\n",
      "Epoch 163/200\n",
      "404/404 [==============================] - 0s 31us/sample - loss: 110.4944 - mse: 88.0905 - mae: 6.5572 - val_loss: 138.2484 - val_mse: 115.8804 - val_mae: 8.1379\n",
      "Epoch 164/200\n",
      "404/404 [==============================] - 0s 32us/sample - loss: 110.9661 - mse: 88.6056 - mae: 6.6020 - val_loss: 134.0257 - val_mse: 111.7007 - val_mae: 7.9182\n",
      "Epoch 165/200\n",
      "404/404 [==============================] - 0s 33us/sample - loss: 109.3091 - mse: 86.9914 - mae: 6.5475 - val_loss: 127.2028 - val_mse: 104.9203 - val_mae: 7.5444\n",
      "Epoch 166/200\n",
      "404/404 [==============================] - 0s 28us/sample - loss: 108.6957 - mse: 86.4204 - mae: 6.5832 - val_loss: 122.4698 - val_mse: 100.2293 - val_mae: 7.2782\n",
      "Epoch 167/200\n",
      "404/404 [==============================] - 0s 34us/sample - loss: 108.9127 - mse: 86.6793 - mae: 6.7155 - val_loss: 116.7280 - val_mse: 94.5290 - val_mae: 6.9631\n",
      "Epoch 168/200\n",
      "404/404 [==============================] - 0s 37us/sample - loss: 112.2812 - mse: 90.0892 - mae: 6.9851 - val_loss: 111.8078 - val_mse: 89.6498 - val_mae: 6.7084\n",
      "Epoch 169/200\n",
      "404/404 [==============================] - 0s 32us/sample - loss: 113.9346 - mse: 91.7836 - mae: 7.2749 - val_loss: 113.4267 - val_mse: 91.3093 - val_mae: 6.7875\n",
      "Epoch 170/200\n",
      "404/404 [==============================] - 0s 30us/sample - loss: 107.6237 - mse: 85.5132 - mae: 6.8661 - val_loss: 119.5686 - val_mse: 97.4913 - val_mae: 7.1317\n",
      "Epoch 171/200\n",
      "404/404 [==============================] - 0s 32us/sample - loss: 106.5778 - mse: 84.5075 - mae: 6.6009 - val_loss: 134.4182 - val_mse: 112.3806 - val_mae: 7.9542\n",
      "Epoch 172/200\n",
      "404/404 [==============================] - 0s 34us/sample - loss: 110.6633 - mse: 88.6325 - mae: 6.5053 - val_loss: 142.9280 - val_mse: 120.9298 - val_mae: 8.3885\n",
      "Epoch 173/200\n",
      "404/404 [==============================] - 0s 34us/sample - loss: 113.2125 - mse: 91.2209 - mae: 6.6138 - val_loss: 138.5713 - val_mse: 116.6118 - val_mae: 8.1753\n",
      "Epoch 174/200\n",
      "404/404 [==============================] - 0s 31us/sample - loss: 112.2585 - mse: 90.3057 - mae: 6.5782 - val_loss: 135.5787 - val_mse: 113.6576 - val_mae: 8.0214\n",
      "Epoch 175/200\n",
      "404/404 [==============================] - 0s 37us/sample - loss: 108.7773 - mse: 86.8628 - mae: 6.4908 - val_loss: 130.4604 - val_mse: 108.5773 - val_mae: 7.7517\n",
      "Epoch 176/200\n",
      "404/404 [==============================] - 0s 35us/sample - loss: 108.7126 - mse: 86.8361 - mae: 6.5440 - val_loss: 123.9472 - val_mse: 102.1017 - val_mae: 7.3824\n",
      "Epoch 177/200\n",
      "404/404 [==============================] - 0s 33us/sample - loss: 106.7213 - mse: 84.8822 - mae: 6.5991 - val_loss: 123.7818 - val_mse: 101.9735 - val_mae: 7.3752\n",
      "Epoch 178/200\n",
      "404/404 [==============================] - 0s 34us/sample - loss: 106.6035 - mse: 84.8015 - mae: 6.6416 - val_loss: 133.2485 - val_mse: 111.4769 - val_mae: 7.9062\n",
      "Epoch 179/200\n",
      "404/404 [==============================] - 0s 30us/sample - loss: 108.5179 - mse: 86.7525 - mae: 6.5319 - val_loss: 140.6401 - val_mse: 118.9049 - val_mae: 8.2901\n",
      "Epoch 180/200\n",
      "404/404 [==============================] - 0s 34us/sample - loss: 110.5415 - mse: 88.8124 - mae: 6.6263 - val_loss: 139.3108 - val_mse: 117.6115 - val_mae: 8.2259\n",
      "Epoch 181/200\n",
      "404/404 [==============================] - 0s 32us/sample - loss: 110.0073 - mse: 88.3141 - mae: 6.5880 - val_loss: 130.7297 - val_mse: 109.0660 - val_mae: 7.7782\n",
      "Epoch 182/200\n",
      "404/404 [==============================] - 0s 33us/sample - loss: 107.1697 - mse: 85.5121 - mae: 6.6743 - val_loss: 122.7750 - val_mse: 101.1464 - val_mae: 7.3287\n",
      "Epoch 183/200\n",
      "404/404 [==============================] - 0s 33us/sample - loss: 108.9140 - mse: 87.2915 - mae: 6.8650 - val_loss: 120.0275 - val_mse: 98.4337 - val_mae: 7.1823\n",
      "Epoch 184/200\n",
      "404/404 [==============================] - 0s 32us/sample - loss: 107.3958 - mse: 85.8080 - mae: 6.8015 - val_loss: 124.4531 - val_mse: 102.8938 - val_mae: 7.4267\n",
      "Epoch 185/200\n",
      "404/404 [==============================] - 0s 32us/sample - loss: 107.9571 - mse: 86.4037 - mae: 6.6991 - val_loss: 127.0414 - val_mse: 105.5162 - val_mae: 7.5793\n",
      "Epoch 186/200\n",
      "404/404 [==============================] - 0s 35us/sample - loss: 105.2799 - mse: 83.7605 - mae: 6.5516 - val_loss: 126.2430 - val_mse: 104.7515 - val_mae: 7.5345\n",
      "Epoch 187/200\n",
      "404/404 [==============================] - 0s 29us/sample - loss: 109.6482 - mse: 88.1625 - mae: 6.8962 - val_loss: 120.5727 - val_mse: 99.1146 - val_mae: 7.2180\n",
      "Epoch 188/200\n",
      "404/404 [==============================] - 0s 35us/sample - loss: 110.6485 - mse: 89.1960 - mae: 7.0426 - val_loss: 114.2523 - val_mse: 92.8271 - val_mae: 6.8669\n",
      "Epoch 189/200\n",
      "404/404 [==============================] - 0s 28us/sample - loss: 108.5790 - mse: 87.1595 - mae: 7.0814 - val_loss: 117.5891 - val_mse: 96.1966 - val_mae: 7.0594\n",
      "Epoch 190/200\n",
      "404/404 [==============================] - 0s 28us/sample - loss: 106.9996 - mse: 85.6126 - mae: 6.8365 - val_loss: 124.1043 - val_mse: 102.7441 - val_mae: 7.4184\n",
      "Epoch 191/200\n",
      "404/404 [==============================] - 0s 30us/sample - loss: 107.1183 - mse: 85.7636 - mae: 6.5963 - val_loss: 127.2634 - val_mse: 105.9352 - val_mae: 7.6036\n",
      "Epoch 192/200\n",
      "404/404 [==============================] - 0s 32us/sample - loss: 106.4892 - mse: 85.1664 - mae: 6.5328 - val_loss: 127.2278 - val_mse: 105.9312 - val_mae: 7.6034\n",
      "Epoch 193/200\n",
      "404/404 [==============================] - 0s 29us/sample - loss: 108.3807 - mse: 87.0894 - mae: 6.5681 - val_loss: 130.2263 - val_mse: 108.9609 - val_mae: 7.7725\n",
      "Epoch 194/200\n",
      "404/404 [==============================] - 0s 30us/sample - loss: 108.1251 - mse: 86.8651 - mae: 6.5265 - val_loss: 133.7849 - val_mse: 112.5505 - val_mae: 7.9631\n",
      "Epoch 195/200\n",
      "404/404 [==============================] - 0s 31us/sample - loss: 108.1125 - mse: 86.8834 - mae: 6.4929 - val_loss: 131.5558 - val_mse: 110.3520 - val_mae: 7.8468\n",
      "Epoch 196/200\n",
      "404/404 [==============================] - 0s 27us/sample - loss: 109.3680 - mse: 88.1695 - mae: 6.6173 - val_loss: 121.6330 - val_mse: 100.4596 - val_mae: 7.2907\n",
      "Epoch 197/200\n",
      "404/404 [==============================] - ETA: 0s - loss: 98.9519 - mse: 77.7785 - mae: 6.476 - 0s 26us/sample - loss: 107.5298 - mse: 86.3616 - mae: 6.7153 - val_loss: 109.4266 - val_mse: 88.2832 - val_mae: 6.6418\n",
      "Epoch 198/200\n",
      "404/404 [==============================] - 0s 129us/sample - loss: 115.2003 - mse: 94.0620 - mae: 7.5125 - val_loss: 104.4611 - val_mse: 83.3474 - val_mae: 6.5624\n",
      "Epoch 199/200\n",
      "404/404 [==============================] - 0s 38us/sample - loss: 123.6402 - mse: 102.5316 - mae: 8.2954 - val_loss: 105.6084 - val_mse: 84.5241 - val_mae: 6.5137\n",
      "Epoch 200/200\n",
      "404/404 [==============================] - 0s 37us/sample - loss: 112.1950 - mse: 91.1157 - mae: 7.4831 - val_loss: 119.5137 - val_mse: 98.4585 - val_mae: 7.1836\n"
     ]
    },
    {
     "data": {
      "text/plain": [
       "<tensorflow.python.keras.callbacks.History at 0x7fddfc43bf98>"
      ]
     },
     "execution_count": 19,
     "metadata": {},
     "output_type": "execute_result"
    }
   ],
   "source": [
    "wandb.init(project=\"ds9-boston\", entity=\"ds8\")\n",
    "\n",
    "from tensorflow.keras.layers import Dropout\n",
    "from tensorflow.keras import regularizers\n",
    "\n",
    "from tensorflow.keras.optimizers import Adam\n",
    "\n",
    "\n",
    "\n",
    "# Important Hyperparameters\n",
    "inputs = x_train.shape[1]\n",
    "wandb.config.epochs = 200\n",
    "wandb.config.batch_size = 10\n",
    "wandb.config.dropout_rt = .2\n",
    "wandb.config.learning_rt = .1\n",
    "\n",
    "adam = Adam(learning_rate = wandb.config.learning_rt)\n",
    "\n",
    "\n",
    "# Create Model\n",
    "model = Sequential()\n",
    "model.add(Dense(64, activation='relu', input_shape=(inputs,)))\n",
    "model.add(Dense(64, activation='relu', kernel_regularizer=regularizers.l2(.1)))\n",
    "model.add(Dropout(wandb.config.dropout_rt))\n",
    "model.add(Dense(64, activation='relu'))\n",
    "model.add(Dropout(wandb.config.dropout_rt))\n",
    "model.add(Dense(64, activation='relu'))\n",
    "model.add(Dropout(wandb.config.dropout_rt))\n",
    "model.add(Dense(64, activation='relu'))\n",
    "model.add(Dense(1))\n",
    "# Compile Model\n",
    "model.compile(optimizer=adam, loss='mse', metrics=['mse', 'mae'])\n",
    "\n",
    "# Fit Model\n",
    "\n",
    "model.fit(x_train, y_train, \n",
    "          validation_data=(x_test, y_test), \n",
    "          epochs=wandb.config.epochs, \n",
    "          batch_size=wandb.config.epochs, \n",
    "          callbacks=[WandbCallback()]\n",
    "         )"
   ]
  },
  {
   "cell_type": "markdown",
   "metadata": {},
   "source": [
    "## Challenge\n",
    "\n",
    "You will be expected to use Weights & Biases to try to tune your model during your module assignment today. "
   ]
  },
  {
   "cell_type": "markdown",
   "metadata": {},
   "source": [
    "# Hyperparameters with RandomSearchCV (Learn)"
   ]
  },
  {
   "cell_type": "markdown",
   "metadata": {},
   "source": [
    "## Overview\n",
    "\n",
    "Basically `GridSearchCV` takes forever. You'll want to adopt a slightly more sophiscated strategy."
   ]
  },
  {
   "cell_type": "markdown",
   "metadata": {},
   "source": [
    "## Follow Along"
   ]
  },
  {
   "cell_type": "code",
   "execution_count": null,
   "metadata": {},
   "outputs": [],
   "source": [
    "# Optional If we Get Here"
   ]
  },
  {
   "cell_type": "markdown",
   "metadata": {},
   "source": [
    "## Challenge\n",
    "\n",
    "Try to apply RandomSearchCV to your module project today. "
   ]
  },
  {
   "cell_type": "markdown",
   "metadata": {},
   "source": [
    "# Review\n",
    "* <a href=\"#p1\">Part 1</a>: Describe the major hyperparemeters to tune\n",
    "    - Activation Functions\n",
    "    - Optimizer\n",
    "    - Number of Layers\n",
    "    - Number of Neurons\n",
    "    - Batch Size\n",
    "    - Dropout Regulaization\n",
    "    - Learning Rate\n",
    "    - Number of Epochs\n",
    "    - and many more\n",
    "* <a href=\"#p2\">Part 2</a>: Implement an experiment tracking framework\n",
    "    - Weights & Biases\n",
    "    - Comet.ml\n",
    "    - By Hand / GridSearch\n",
    "* <a href=\"#p3\">Part 3</a>: Search the hyperparameter space using RandomSearch\n",
    "    - Sklearn still useful (haha)\n",
    "    - Integration with Wieghts & Biases\n",
    "* <a href=\"#p4\">Part 4</a>: Discuss emerging hyperparameter tuning strategies\n",
    "    - Bayesian Optimization\n",
    "    - Hyperopt\n",
    "    - Genetic Evolution"
   ]
  },
  {
   "cell_type": "markdown",
   "metadata": {},
   "source": [
    "# Sources"
   ]
  },
  {
   "cell_type": "markdown",
   "metadata": {},
   "source": [
    "## Additional Reading\n",
    "- https://machinelearningmastery.com/grid-search-hyperparameters-deep-learning-models-python-keras/\n",
    "- https://blog.floydhub.com/guide-to-hyperparameters-search-for-deep-learning-models/\n",
    "- https://machinelearningmastery.com/dropout-regularization-deep-learning-models-keras/\n",
    "- https://machinelearningmastery.com/introduction-to-weight-constraints-to-reduce-generalization-error-in-deep-learning/\n",
    "- https://machinelearningmastery.com/how-to-configure-the-number-of-layers-and-nodes-in-a-neural-network/"
   ]
  }
 ],
 "metadata": {
  "kernelspec": {
   "display_name": "Python 3",
   "language": "python",
   "name": "python3"
  },
  "language_info": {
   "codemirror_mode": {
    "name": "ipython",
    "version": 3
   },
   "file_extension": ".py",
   "mimetype": "text/x-python",
   "name": "python",
   "nbconvert_exporter": "python",
   "pygments_lexer": "ipython3",
   "version": "3.7.4"
  }
 },
 "nbformat": 4,
 "nbformat_minor": 4
}
